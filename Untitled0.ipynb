{
  "nbformat": 4,
  "nbformat_minor": 0,
  "metadata": {
    "colab": {
      "provenance": []
    },
    "kernelspec": {
      "name": "python3",
      "display_name": "Python 3"
    },
    "language_info": {
      "name": "python"
    }
  },
  "cells": [
    {
      "cell_type": "code",
      "execution_count": 2,
      "metadata": {
        "colab": {
          "base_uri": "https://localhost:8080/"
        },
        "id": "rS2QtfDGYLRK",
        "outputId": "6b14db55-8ce5-43a1-881b-ef256bc90de1"
      },
      "outputs": [
        {
          "output_type": "stream",
          "name": "stdout",
          "text": [
            "이번학기에 무언가 새로운 것을 배워 봅시다\n"
          ]
        }
      ],
      "source": [
        "print(\"이번학기에 무언가 새로운 것을 배워 봅시다\")"
      ]
    },
    {
      "cell_type": "code",
      "source": [],
      "metadata": {
        "id": "WWAIKKfyf-4o"
      },
      "execution_count": null,
      "outputs": []
    }
  ]
}